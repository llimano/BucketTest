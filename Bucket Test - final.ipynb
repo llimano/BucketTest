{
 "cells": [
  {
   "cell_type": "markdown",
   "metadata": {},
   "source": [
    "# Bucket Test - by LL - 2018-07-29"
   ]
  },
  {
   "cell_type": "markdown",
   "metadata": {},
   "source": [
    "Assumptions: \n",
    "\n",
    "instead of reading files from a folder, we're generating filenames and filesizes at random - thanks to that it can be interactively used and easily shared and tested: just set up what you need and program will create the test case for you. \n",
    "\n",
    "The focus is on the algorithm of correct bucket assignments and it's effectiveness. \n",
    "\n",
    "Instead of just 4 and 8 buckets and just 100 files, you can set any value you want (well.. almost - some bad values like 0 or more buckets than files will be filtered out :) ). \n",
    "\n",
    "There's a quick summary at the end with a graphic visualization of bytes distribution among buckets.\n",
    "\n",
    "To change the random filenames generation to real-life folder, I would use os.listdir + loop for all files, with the same objects (lists) as used below.  \n",
    "\n",
    "\n",
    "\n",
    "Let's begin...\n",
    "\n"
   ]
  },
  {
   "cell_type": "code",
   "execution_count": 1,
   "metadata": {},
   "outputs": [],
   "source": [
    "import random                    # used for file size generation\n",
    "import time                      # used for filenames generation based on timestamps\n",
    "from operator import itemgetter  # used for list sort\n",
    "import matplotlib.pyplot as plt  # used for visualization part\n",
    "import sys"
   ]
  },
  {
   "cell_type": "markdown",
   "metadata": {},
   "source": [
    "set parameters:"
   ]
  },
  {
   "cell_type": "code",
   "execution_count": 2,
   "metadata": {},
   "outputs": [
    {
     "name": "stdout",
     "output_type": "stream",
     "text": [
      "How many files? : 100\n",
      "How many buckets? : 4\n"
     ]
    }
   ],
   "source": [
    "debugMode = 1       # print out details of execution\n",
    "numberOfFiles = int (input(\"How many files? : \"))\n",
    "numberOfBuckets = int (input(\"How many buckets? : \"))"
   ]
  },
  {
   "cell_type": "markdown",
   "metadata": {},
   "source": [
    "Quick test if the values given are correct. If not, using default:  "
   ]
  },
  {
   "cell_type": "code",
   "execution_count": 3,
   "metadata": {
    "scrolled": true
   },
   "outputs": [],
   "source": [
    "if numberOfBuckets > numberOfFiles or numberOfBuckets == 0 or numberOfFiles == 0: \n",
    "    print ('Incorrect number of buckets or files. Using default values (4 & 100)')\n",
    "    numberOfBuckets = 4\n",
    "    numberOfFiles = 100"
   ]
  },
  {
   "cell_type": "markdown",
   "metadata": {},
   "source": [
    "Generating given number of random filenames with random sizes (let's assume: in bytes):"
   ]
  },
  {
   "cell_type": "code",
   "execution_count": 4,
   "metadata": {},
   "outputs": [
    {
     "name": "stdout",
     "output_type": "stream",
     "text": [
      "[[70, 87400], [43, 59500], [44, 51500], [20, 44400], [35, 37000], [88, 19700], [82, 13400], [87, 11900], [64, 9970], [90, 9928], [60, 9880], [41, 9808], [84, 9564], [23, 9349], [65, 9298], [76, 9244], [63, 9221], [46, 9027], [80, 8929], [56, 8897], [52, 8804], [72, 8801], [68, 8628], [22, 8445], [17, 8322], [19, 8302], [31, 8298], [14, 8262], [86, 8224], [61, 7857], [91, 7759], [79, 7689], [11, 7575], [69, 7293], [73, 7287], [4, 7090], [75, 7056], [34, 6834], [45, 6725], [15, 6656], [51, 6649], [40, 6635], [42, 6570], [16, 6398], [26, 6308], [85, 6071], [59, 6047], [33, 6039], [28, 5905], [5, 5654], [36, 5575], [66, 5571], [98, 5569], [27, 5408], [12, 5327], [21, 5169], [53, 5072], [6, 5007], [25, 4925], [7, 4648], [89, 4551], [94, 4544], [67, 4506], [38, 4455], [39, 4438], [78, 4280], [18, 4141], [81, 3962], [0, 3910], [92, 3359], [30, 3199], [71, 3190], [83, 3129], [37, 3111], [32, 3091], [97, 2994], [49, 2986], [96, 2857], [10, 2802], [1, 2772], [74, 2762], [57, 2743], [9, 2732], [55, 2680], [29, 2648], [77, 2446], [50, 2253], [54, 2141], [48, 2120], [24, 2111], [99, 2060], [62, 2011], [58, 1804], [93, 1794], [47, 1664], [8, 1649], [13, 1525], [2, 1222], [3, 1160], [95, 1068]]\n"
     ]
    }
   ],
   "source": [
    "listOfFileNames = []\n",
    "# initiate a list of 2 dim lists: [0: index to listOfFileNames(lookup), 1: fileSize]\n",
    "listOfFileSizes = []\n",
    "for i in range (0, numberOfFiles):\n",
    "    listOfFileSizes.append([])\n",
    "\n",
    "for i in range (0, numberOfFiles):\n",
    "    fileSize = random.randint(100, 10000)\n",
    "    # add some bigger files at random, to complicate the calculation: \n",
    "    if (100 <= fileSize <= 1000):\n",
    "        fileSize *= 100; \n",
    "    # add some unique timestamps for filenames generation:\n",
    "    sleeptime = random.uniform(0.03, 0.07)\n",
    "    time.sleep(sleeptime)\n",
    "    fileName = str(time.time()) + '.csv'\n",
    "    # fill the lists: \n",
    "    listOfFileNames.append(fileName)\n",
    "    listOfFileSizes[i].append(i)        # this is just an index to listOfFileNames, remember? :)\n",
    "    listOfFileSizes[i].append(fileSize) \n",
    "\n",
    "# sort listOfFiles by size, desc, create new, sorted list    \n",
    "listOfFileSizesSorted = sorted (listOfFileSizes, key=itemgetter(1), reverse=True)\n",
    "if (debugMode == 1):\n",
    "    print (listOfFileSizesSorted)"
   ]
  },
  {
   "cell_type": "markdown",
   "metadata": {},
   "source": [
    "Create buckets: "
   ]
  },
  {
   "cell_type": "code",
   "execution_count": 5,
   "metadata": {},
   "outputs": [
    {
     "name": "stdout",
     "output_type": "stream",
     "text": [
      "=== SUMMARY: ===\n",
      "buckets sizes: [205239, 205252, 205208, 205540]\n",
      "number of files in each bucket: 23; 26; 26; 25; \n",
      "list of files in each bucket: \n",
      "[['1532887880.7979794.csv', '1532887881.6730118.csv', '1532887880.4098437.csv', '1532887879.7715943.csv', '1532887877.8496544.csv', '1532887881.7980204.csv', '1532887877.507847.csv', '1532887881.1261182.csv', '1532887879.70908.csv', '1532887878.3707826.csv', '1532887878.4778562.csv', '1532887882.4545293.csv', '1532887879.8340967.csv', '1532887882.0013916.csv', '1532887879.0622709.csv', '1532887876.9152024.csv', '1532887881.641777.csv', '1532887879.6153257.csv', '1532887881.0479867.csv', '1532887878.5247335.csv', '1532887879.569901.csv', '1532887880.1309764.csv', '1532887877.008958.csv'], ['1532887879.31093.csv', '1532887881.579273.csv', '1532887880.456717.csv', '1532887880.2421575.csv', '1532887880.500748.csv', '1532887881.4386272.csv', '1532887880.652799.csv', '1532887877.699973.csv', '1532887881.3761244.csv', '1532887877.1328285.csv', '1532887879.3960016.csv', '1532887879.2698884.csv', '1532887878.7434955.csv', '1532887880.559036.csv', '1532887878.0675776.csv', '1532887878.3197336.csv', '1532887879.0231788.csv', '1532887881.5011299.csv', '1532887882.1576512.csv', '1532887878.6965601.csv', '1532887877.4609644.csv', '1532887877.3984528.csv', '1532887879.8809736.csv', '1532887878.2582774.csv', '1532887882.2045248.csv', '1532887877.0558496.csv'], ['1532887879.3609152.csv', '1532887881.9388928.csv', '1532887881.860519.csv', '1532887879.207333.csv', '1532887881.1886172.csv', '1532887880.0059817.csv', '1532887878.1136453.csv', '1532887878.634113.csv', '1532887882.0951452.csv', '1532887881.0011098.csv', '1532887877.7540252.csv', '1532887877.7890468.csv', '1532887880.1778605.csv', '1532887878.9070978.csv', '1532887877.5703502.csv', '1532887877.2890851.csv', '1532887882.2358005.csv', '1532887881.298.csv', '1532887880.8761086.csv', '1532887882.4076612.csv', '1532887882.3451552.csv', '1532887879.9434648.csv', '1532887881.2511199.csv', '1532887880.3582895.csv', '1532887877.3515909.csv', '1532887882.298282.csv'], ['1532887878.0135405.csv', '1532887878.855029.csv', '1532887882.048272.csv', '1532887878.1801503.csv', '1532887879.4510152.csv', '1532887880.9386108.csv', '1532887877.981515.csv', '1532887880.293215.csv', '1532887880.7126532.csv', '1532887878.8140485.csv', '1532887879.129258.csv', '1532887881.7355177.csv', '1532887877.179709.csv', '1532887878.4309793.csv', '1532887877.2422113.csv', '1532887880.6059258.csv', '1532887877.9147441.csv', '1532887878.5716105.csv', '1532887878.9611228.csv', '1532887876.9620962.csv', '1532887880.0841098.csv', '1532887879.6622145.csv', '1532887882.5326538.csv', '1532887879.516106.csv', '1532887877.6328495.csv']]\n",
      "bucket_1 = ['1532887880.7979794.csv', '1532887881.6730118.csv', '1532887880.4098437.csv', '1532887879.7715943.csv', '1532887877.8496544.csv', '1532887881.7980204.csv', '1532887877.507847.csv', '1532887881.1261182.csv', '1532887879.70908.csv', '1532887878.3707826.csv', '1532887878.4778562.csv', '1532887882.4545293.csv', '1532887879.8340967.csv', '1532887882.0013916.csv', '1532887879.0622709.csv', '1532887876.9152024.csv', '1532887881.641777.csv', '1532887879.6153257.csv', '1532887881.0479867.csv', '1532887878.5247335.csv', '1532887879.569901.csv', '1532887880.1309764.csv', '1532887877.008958.csv']; size = 205239\n",
      "bucket_2 = ['1532887879.31093.csv', '1532887881.579273.csv', '1532887880.456717.csv', '1532887880.2421575.csv', '1532887880.500748.csv', '1532887881.4386272.csv', '1532887880.652799.csv', '1532887877.699973.csv', '1532887881.3761244.csv', '1532887877.1328285.csv', '1532887879.3960016.csv', '1532887879.2698884.csv', '1532887878.7434955.csv', '1532887880.559036.csv', '1532887878.0675776.csv', '1532887878.3197336.csv', '1532887879.0231788.csv', '1532887881.5011299.csv', '1532887882.1576512.csv', '1532887878.6965601.csv', '1532887877.4609644.csv', '1532887877.3984528.csv', '1532887879.8809736.csv', '1532887878.2582774.csv', '1532887882.2045248.csv', '1532887877.0558496.csv']; size = 205252\n",
      "bucket_3 = ['1532887879.3609152.csv', '1532887881.9388928.csv', '1532887881.860519.csv', '1532887879.207333.csv', '1532887881.1886172.csv', '1532887880.0059817.csv', '1532887878.1136453.csv', '1532887878.634113.csv', '1532887882.0951452.csv', '1532887881.0011098.csv', '1532887877.7540252.csv', '1532887877.7890468.csv', '1532887880.1778605.csv', '1532887878.9070978.csv', '1532887877.5703502.csv', '1532887877.2890851.csv', '1532887882.2358005.csv', '1532887881.298.csv', '1532887880.8761086.csv', '1532887882.4076612.csv', '1532887882.3451552.csv', '1532887879.9434648.csv', '1532887881.2511199.csv', '1532887880.3582895.csv', '1532887877.3515909.csv', '1532887882.298282.csv']; size = 205208\n",
      "bucket_4 = ['1532887878.0135405.csv', '1532887878.855029.csv', '1532887882.048272.csv', '1532887878.1801503.csv', '1532887879.4510152.csv', '1532887880.9386108.csv', '1532887877.981515.csv', '1532887880.293215.csv', '1532887880.7126532.csv', '1532887878.8140485.csv', '1532887879.129258.csv', '1532887881.7355177.csv', '1532887877.179709.csv', '1532887878.4309793.csv', '1532887877.2422113.csv', '1532887880.6059258.csv', '1532887877.9147441.csv', '1532887878.5716105.csv', '1532887878.9611228.csv', '1532887876.9620962.csv', '1532887880.0841098.csv', '1532887879.6622145.csv', '1532887882.5326538.csv', '1532887879.516106.csv', '1532887877.6328495.csv']; size = 205540\n"
     ]
    }
   ],
   "source": [
    "listOfBuckets = []\n",
    "sizeOfBuckets = []\n",
    "\n",
    "# initiate lists:\n",
    "for i in range (0, numberOfBuckets):\n",
    "    listOfBuckets.append([])\n",
    "    sizeOfBuckets.append(0)\n",
    "\n",
    "\n",
    "# init assignment to buckets, first round-robin, no special logic used: \n",
    "for i in range (0, numberOfBuckets):\n",
    "    listOfBuckets[i].append(listOfFileNames[listOfFileSizesSorted[i][0]])\n",
    "    sizeOfBuckets[i] = listOfFileSizesSorted[i][1]\n",
    "\n",
    "# assign rest of files: \n",
    "for i in range (numberOfBuckets, numberOfFiles):\n",
    "    findMinBucket = min(sizeOfBuckets)\n",
    "    for j in range (0, numberOfBuckets):\n",
    "        if (sizeOfBuckets[j] == findMinBucket):                                   # if smallest bucket:\n",
    "            sizeOfBuckets[j] += listOfFileSizesSorted[i][1]                       # 1. increase the size of the bucket\n",
    "            listOfBuckets[j].append(listOfFileNames[listOfFileSizesSorted[i][0]]) # 2. add fileName to the bucket\n",
    "\n",
    "# generate dynamic summary:             \n",
    "printSummary = ''\n",
    "for i in range (0, numberOfBuckets):\n",
    "    printSummary += str (len(listOfBuckets[i])) + '; '  \n",
    "    \n",
    "if (debugMode == 1):\n",
    "    print ('=== SUMMARY: ===')\n",
    "    print ('buckets sizes: ' + str(sizeOfBuckets))\n",
    "    print ('number of files in each bucket: ' + printSummary)\n",
    "    print ('list of files in each bucket: ')\n",
    "    print (listOfBuckets)\n",
    "\n",
    "for i in range (0, numberOfBuckets):\n",
    "    print ('bucket_' + str(i+1) + ' = ' + str(listOfBuckets[i]) + '; size = ' + str (sizeOfBuckets[i]))"
   ]
  },
  {
   "cell_type": "markdown",
   "metadata": {},
   "source": [
    "add some drawings to visualize the efficiency:"
   ]
  },
  {
   "cell_type": "code",
   "execution_count": 6,
   "metadata": {},
   "outputs": [
    {
     "data": {
      "text/plain": [
       "<BarContainer object of 4 artists>"
      ]
     },
     "execution_count": 6,
     "metadata": {},
     "output_type": "execute_result"
    },
    {
     "data": {
      "image/png": "[encoded data removed]",
      "text/plain": [
       "<Figure size 432x288 with 1 Axes>"
      ]
     },
     "metadata": {},
     "output_type": "display_data"
    }
   ],
   "source": [
    "N = numberOfBuckets\n",
    "x = range(numberOfBuckets)\n",
    "width = 1/1.5\n",
    "plt.bar(x, sizeOfBuckets, width, color=\"green\")"
   ]
  },
  {
   "cell_type": "markdown",
   "metadata": {},
   "source": [
    "Now it is only needed to use buckest to merge files into one per bucket. \n",
    "Last command would zip them. "
   ]
  }
 ],
 "metadata": {
  "kernelspec": {
   "display_name": "Python 3",
   "language": "python",
   "name": "python3"
  },
  "language_info": {
   "codemirror_mode": {
    "name": "ipython",
    "version": 3
   },
   "file_extension": ".py",
   "mimetype": "text/x-python",
   "name": "python",
   "nbconvert_exporter": "python",
   "pygments_lexer": "ipython3",
   "version": "3.6.5"
  }
 },
 "nbformat": 4,
 "nbformat_minor": 2
}
