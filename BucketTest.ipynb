{
 "cells": [
  {
   "cell_type": "markdown",
   "metadata": {},
   "source": [
    "# Bucket Test - by LL - 2018-07-27"
   ]
  },
  {
   "cell_type": "code",
   "execution_count": 262,
   "metadata": {},
   "outputs": [],
   "source": [
    "import random                    # used for file size generation\n",
    "import time                      # used for filenames generation based on timestamps\n",
    "from operator import itemgetter  # used for list sort\n",
    "import matplotlib.pyplot as plt  # used for visualization part"
   ]
  },
  {
   "cell_type": "markdown",
   "metadata": {},
   "source": [
    "set parameters"
   ]
  },
  {
   "cell_type": "code",
   "execution_count": 263,
   "metadata": {},
   "outputs": [
    {
     "name": "stdout",
     "output_type": "stream",
     "text": [
      "How many files would you like to test on? 20\n"
     ]
    }
   ],
   "source": [
    "debugMode = 1       # print out details of execution\n",
    "numberOfFiles = int (input(\"How many files would you like to test on? \"))"
   ]
  },
  {
   "cell_type": "markdown",
   "metadata": {},
   "source": [
    "Generating given number of random filenames with random sizes:"
   ]
  },
  {
   "cell_type": "code",
   "execution_count": 264,
   "metadata": {},
   "outputs": [
    {
     "name": "stdout",
     "output_type": "stream",
     "text": [
      "[[19, 17200], [17, 9943], [18, 9740], [15, 9736], [0, 8241], [10, 7709], [8, 7600], [4, 7192], [11, 7075], [1, 6497], [7, 6346], [6, 5848], [14, 5335], [13, 4330], [2, 3149], [12, 2935], [9, 2337], [16, 2178], [5, 2152], [3, 1205]]\n"
     ]
    }
   ],
   "source": [
    "listOfFileNames = []\n",
    "# initiate 2 dim list: [index to listOfFileNames - lookup, fileSize]\n",
    "listOfFileSizes = []\n",
    "for i in range (0, numberOfFiles):\n",
    "    listOfFileSizes.append([])\n",
    "\n",
    "for i in range (0, numberOfFiles):\n",
    "    fileSize = random.randint(100, 10000)\n",
    "    # add some bigger files to complicate the calculation: \n",
    "    if (100 <= fileSize <= 1000):\n",
    "        fileSize *= 100; \n",
    "    # add some unique timestamps for filenames generation:\n",
    "    sleeptime = random.uniform(0.03, 0.07)\n",
    "    time.sleep(sleeptime)\n",
    "    fileName = str(time.time()) + '.csv'\n",
    "    # fill the lists: \n",
    "    listOfFileNames.append(fileName)\n",
    "    listOfFileSizes[i].append(i)        # this is just an index to listOfFileNames, remember? :)\n",
    "    listOfFileSizes[i].append(fileSize) \n",
    "\n",
    "# sort listOfFiles by size, desc, create new, sorted list    \n",
    "listOfFileSizesSorted = sorted (listOfFileSizes, key=itemgetter(1), reverse=True)\n",
    "if (debugMode == 1):\n",
    "    print (listOfFileSizesSorted)"
   ]
  },
  {
   "cell_type": "markdown",
   "metadata": {},
   "source": [
    "Create buckets: "
   ]
  },
  {
   "cell_type": "code",
   "execution_count": 265,
   "metadata": {},
   "outputs": [
    {
     "name": "stdout",
     "output_type": "stream",
     "text": [
      "SUMMARY:\n",
      "buckets sizes: [31059, 32040, 31813, 31836]\n",
      "number of files in each bucket: 4; 5; 6; 5\n",
      "list of files in each bucket: \n",
      "[['1532807460.621095.csv', '1532807459.8706617.csv', '1532807460.3808718.csv', '1532807460.1721346.csv'], ['1532807460.5570946.csv', '1532807460.136293.csv', '1532807459.7018287.csv', '1532807460.0112922.csv', '1532807459.9487896.csv'], ['1532807460.588112.csv', '1532807460.224612.csv', '1532807460.271493.csv', '1532807459.7487183.csv', '1532807460.3183665.csv', '1532807459.8147674.csv'], ['1532807460.489032.csv', '1532807459.6453404.csv', '1532807460.0737946.csv', '1532807460.4490075.csv', '1532807460.5220618.csv']]\n",
      "bucket_1 = ['1532807460.621095.csv', '1532807459.8706617.csv', '1532807460.3808718.csv', '1532807460.1721346.csv']; size = 31059\n",
      "bucket_2 = ['1532807460.5570946.csv', '1532807460.136293.csv', '1532807459.7018287.csv', '1532807460.0112922.csv', '1532807459.9487896.csv']; size = 32040\n",
      "bucket_3 = ['1532807460.588112.csv', '1532807460.224612.csv', '1532807460.271493.csv', '1532807459.7487183.csv', '1532807460.3183665.csv', '1532807459.8147674.csv']; size = 31813\n",
      "bucket_4 = ['1532807460.489032.csv', '1532807459.6453404.csv', '1532807460.0737946.csv', '1532807460.4490075.csv', '1532807460.5220618.csv']; size = 31836\n"
     ]
    }
   ],
   "source": [
    "listOfBuckets = []\n",
    "listOfBuckets.append([]) # bucket1\n",
    "listOfBuckets.append([]) # bucket2\n",
    "listOfBuckets.append([]) # bucket3\n",
    "listOfBuckets.append([]) # bucket4\n",
    "\n",
    "# init values, all 4 buckets sizes in one list:\n",
    "sizeOfBuckets = [0,0,0,0]\n",
    "\n",
    "# init assignment to buckets, first four sizes, no special logic used: \n",
    "for i in range (0, 4):\n",
    "    listOfBuckets[i].append(listOfFileNames[listOfFileSizesSorted[i][0]])\n",
    "    sizeOfBuckets[i] = listOfFileSizesSorted[i][1]\n",
    "\n",
    "# assign rest of files: \n",
    "for i in range (4, numberOfFiles):\n",
    "    findMinBucket = min(sizeOfBuckets[0], sizeOfBuckets[1], sizeOfBuckets[2], sizeOfBuckets[3])\n",
    "    for j in range (0, 4):\n",
    "        if (sizeOfBuckets[j] == findMinBucket):                                   # if smallest bucket:\n",
    "            sizeOfBuckets[j] += listOfFileSizesSorted[i][1]                       # 1. increase the size of the bucket\n",
    "            listOfBuckets[j].append(listOfFileNames[listOfFileSizesSorted[i][0]]) # 2. add fileName to the bucket\n",
    "if (debugMode == 1):\n",
    "    print ('SUMMARY:')\n",
    "    print ('buckets sizes: ' + str(sizeOfBuckets))\n",
    "    print ('number of files in each bucket: ' + str (len(listOfBuckets[0])) + '; ' + str (len(listOfBuckets[1])) + \n",
    "           '; ' + str (len(listOfBuckets[2])) + '; ' + str (len(listOfBuckets[3])))\n",
    "    print ('list of files in each bucket: ')\n",
    "    print (listOfBuckets)\n",
    "\n",
    "for i in range (0, 4):\n",
    "    print ('bucket_' + str(i+1) + ' = ' + str(listOfBuckets[i]) + '; size = ' + str (sizeOfBuckets[i]))"
   ]
  },
  {
   "cell_type": "code",
   "execution_count": null,
   "metadata": {},
   "outputs": [],
   "source": []
  },
  {
   "cell_type": "markdown",
   "metadata": {},
   "source": [
    "add some drawings to visualize the efficiency:"
   ]
  },
  {
   "cell_type": "code",
   "execution_count": 266,
   "metadata": {},
   "outputs": [
    {
     "data": {
      "text/plain": [
       "([<matplotlib.axis.XTick at 0x20b5fc64da0>,\n",
       "  <matplotlib.axis.XTick at 0x20b5fc646d8>,\n",
       "  <matplotlib.axis.XTick at 0x20b5fc64438>,\n",
       "  <matplotlib.axis.XTick at 0x20b5fc88c50>],\n",
       " <a list of 4 Text xticklabel objects>)"
      ]
     },
     "execution_count": 266,
     "metadata": {},
     "output_type": "execute_result"
    },
    {
     "data": {
      "image/png": "[encoded data removed]",
      "text/plain": [
       "<Figure size 432x288 with 1 Axes>"
      ]
     },
     "metadata": {},
     "output_type": "display_data"
    }
   ],
   "source": [
    "N = 4\n",
    "x = range(4)\n",
    "width = 1/1.5\n",
    "plt.bar(x, sizeOfBuckets, width, color=\"blue\")\n",
    "plt.xticks(x, ('bucket_1', 'bucket_2', 'bucket_3', 'bucket_4'))"
   ]
  }
 ],
 "metadata": {
  "kernelspec": {
   "display_name": "Python 3",
   "language": "python",
   "name": "python3"
  },
  "language_info": {
   "codemirror_mode": {
    "name": "ipython",
    "version": 3
   },
   "file_extension": ".py",
   "mimetype": "text/x-python",
   "name": "python",
   "nbconvert_exporter": "python",
   "pygments_lexer": "ipython3",
   "version": "3.6.5"
  }
 },
 "nbformat": 4,
 "nbformat_minor": 2
}
